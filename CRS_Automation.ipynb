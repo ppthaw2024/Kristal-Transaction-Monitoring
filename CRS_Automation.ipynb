{
  "nbformat": 4,
  "nbformat_minor": 0,
  "metadata": {
    "colab": {
      "provenance": [],
      "authorship_tag": "ABX9TyM5vyYDuLH6Hq8p5mjEIZn2",
      "include_colab_link": true
    },
    "kernelspec": {
      "name": "python3",
      "display_name": "Python 3"
    },
    "language_info": {
      "name": "python"
    }
  },
  "cells": [
    {
      "cell_type": "markdown",
      "metadata": {
        "id": "view-in-github",
        "colab_type": "text"
      },
      "source": [
        "<a href=\"https://colab.research.google.com/github/ppthaw2024/Kristal-Transaction-Monitoring/blob/main/CRS_Automation.ipynb\" target=\"_parent\"><img src=\"https://colab.research.google.com/assets/colab-badge.svg\" alt=\"Open In Colab\"/></a>"
      ]
    },
    {
      "cell_type": "code",
      "execution_count": 51,
      "metadata": {
        "id": "OP7yQYTJQpTT"
      },
      "outputs": [],
      "source": [
        "import pandas as pd\n",
        "\n",
        "# Read raw data from uploaded Excel\n",
        "raw_data = pd.read_excel('/content/crs_export_KAMEL.xlsx')\n",
        "\n",
        "# Read reference KAMEL-CRS submission template to get correct columns/order\n",
        "template = pd.read_excel('/content/KAMEL - CRS Submission.xlsx', sheet_name='Accounts',header=1)\n",
        "required_columns = template.columns\n",
        "\n",
        "# Mapping logic: create a dictionary to map raw data columns to submission template\n",
        "column_map = {\n",
        "    'application_id': 'Number',\n",
        "    'client_id': 'Holder Individual',\n",
        "    'controlling_client_id': 'Holder Entity',\n",
        "    'first_name': 'First Name',\n",
        "    'last_name': 'Last Name',\n",
        "    'residential_address_1': 'Street',\n",
        "    'residential_address_2': 'Street',  # could be concatenated\n",
        "    'residential_city': 'City',\n",
        "    'country_of_residence': 'Country',\n",
        "    'residential_postal_code': 'Postal Code',\n",
        "    'primary_tax_id': 'TIN 1',\n",
        "    'primary_tax_country': 'Tax Residency 1',\n",
        "    'date_of_birth': 'Date of Birth',\n",
        "    'booking_center': 'Type',\n",
        "     'client_type': 'Number Type',\n",
        "    'application_aum': 'Currency',\n",
        "    'cash_balance': 'Balance'\n",
        "}\n",
        "\n",
        "# Transform and create new DataFrame for submission\n",
        "submission_df = pd.DataFrame()\n",
        "\n",
        "for kamel_col in required_columns:\n",
        "    raw_col = [k for k, v in column_map.items() if v == kamel_col]\n",
        "\n",
        "    if 'Currency' in kamel_col:\n",
        "        submission_df[kamel_col] = 'USD'\n",
        "    elif raw_col:\n",
        "        submission_df[kamel_col] = raw_data[raw_col[0]]\n",
        "    else:\n",
        "        submission_df[kamel_col] = ''  # fill missing columns as empty or with logic as necessary\n",
        "\n",
        "for index, row in submission_df.iterrows():\n",
        "    if row['Number'].startswith('J'):\n",
        "        submission_df.at[index, 'Is Joint?'] = 'T'\n",
        "    else:\n",
        "        submission_df.at[index, 'Is Joint?'] = 'F'\n",
        "\n",
        "    ts = pd.Timestamp(row['Date of Birth'])\n",
        "    row['Date of Birth'] = ts.strftime('%d/%m/%Y')\n",
        "  #  print(str(row['Date of Birth']))\n",
        "\n",
        "\n",
        "\n",
        "# Save to file for download or further processing\n",
        "submission_df.to_excel('submission_ready.xlsx', index=False)\n"
      ]
    },
    {
      "cell_type": "code",
      "source": [
        "from google.colab import drive\n",
        "drive.mount('/content/drive')"
      ],
      "metadata": {
        "id": "TQ3JhM6fRBVM"
      },
      "execution_count": null,
      "outputs": []
    }
  ]
}